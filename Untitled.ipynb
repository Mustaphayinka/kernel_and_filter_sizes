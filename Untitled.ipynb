{
 "cells": [
  {
   "cell_type": "code",
   "execution_count": null,
   "id": "3cf1e2ff",
   "metadata": {},
   "outputs": [],
   "source": [
    "import sqlite3\n",
    "import random\n",
    "from faker import Faker\n",
    "import datetime"
   ]
  },
  {
   "cell_type": "code",
   "execution_count": 11,
   "id": "f74fc75e",
   "metadata": {},
   "outputs": [],
   "source": [
    "# Connect to the SQLite database (or create it if it doesn't exist)\n",
    "conn = sqlite3.connect('CustomerEngagementDB.db')\n",
    "cursor = conn.cursor()\n",
    "\n",
    "# Creating the Customers table\n",
    "cursor.execute('''\n",
    "    CREATE TABLE IF NOT EXISTS Customers (\n",
    "        customer_id INTEGER PRIMARY KEY AUTOINCREMENT,\n",
    "        first_name TEXT NOT NULL,\n",
    "        last_name TEXT NOT NULL,\n",
    "        age INTEGER CHECK(age >= 0),\n",
    "        join_date DATE,\n",
    "        status TEXT CHECK(status IN ('Active', 'Inactive')),\n",
    "        income REAL,\n",
    "        city TEXT,\n",
    "        membership_level INTEGER,\n",
    "        satisfaction_index INTEGER CHECK(satisfaction_index BETWEEN 0 AND 100),\n",
    "        email TEXT UNIQUE\n",
    "    )\n",
    "''')\n",
    "\n",
    "# Creating the Orders table\n",
    "cursor.execute('''\n",
    "    CREATE TABLE IF NOT EXISTS Orders (\n",
    "        order_id INTEGER PRIMARY KEY AUTOINCREMENT,\n",
    "        customer_id INTEGER,\n",
    "        order_date DATE,\n",
    "        amount REAL,\n",
    "        product_name TEXT,\n",
    "        quantity INTEGER CHECK(quantity > 0),\n",
    "        discount_percentage INTEGER CHECK(discount_percentage BETWEEN 0 AND 100),\n",
    "        service_duration_minutes INTEGER,\n",
    "        FOREIGN KEY (customer_id) REFERENCES Customers(customer_id)\n",
    "    )\n",
    "''')\n",
    "\n",
    "# Creating the Reviews table\n",
    "cursor.execute('''\n",
    "    CREATE TABLE IF NOT EXISTS Reviews (\n",
    "        review_id INTEGER PRIMARY KEY AUTOINCREMENT,\n",
    "        customer_id INTEGER,\n",
    "        order_id INTEGER,\n",
    "        review_date DATE,\n",
    "        rating INTEGER CHECK(rating BETWEEN 1 AND 5),\n",
    "        comments TEXT,\n",
    "        FOREIGN KEY (customer_id) REFERENCES Customers(customer_id),\n",
    "        FOREIGN KEY (order_id) REFERENCES Orders(order_id),\n",
    "        UNIQUE(customer_id, order_id)\n",
    "    )\n",
    "''')\n",
    "\n",
    "# Data generation using Faker\n",
    "fake = Faker()\n",
    "start_date = datetime.date(2020, 1, 1)\n",
    "end_date = datetime.date(2024, 12, 31)\n",
    "\n",
    "# Helper function to generate a random date between start_date and end_date\n",
    "def random_date():\n",
    "    return fake.date_between(start_date=start_date, end_date=end_date)\n",
    "\n",
    "# Inserting data into the Customers table\n",
    "customers_data = []\n",
    "for _ in range(100):\n",
    "    customers_data.append((\n",
    "        fake.first_name(),\n",
    "        fake.last_name(),\n",
    "        random.randint(18, 90),  # age\n",
    "        random_date(),  # join_date\n",
    "        random.choice(['Active', 'Inactive']),  # status\n",
    "        round(random.uniform(20000, 100000), 2),  # income\n",
    "        fake.city(),  # city\n",
    "        random.randint(1, 5),  # membership_level\n",
    "        random.randint(0, 100),  # satisfaction_index\n",
    "        fake.unique.email()  # email\n",
    "    ))\n",
    "cursor.executemany('''\n",
    "    INSERT INTO Customers (first_name, last_name, age, join_date, status, income, city, membership_level, satisfaction_index, email)\n",
    "VALUES ('John', 'Doe', 29, '2023-06-15', 'Active', 55000.00, 'London', 3, 85, 'john.doe@example.com');\n",
    "''', customers_data)\n",
    "\n",
    "\n",
    "# Inserting data into the Orders table\n",
    "orders_data = []\n",
    "for _ in range(200):\n",
    "    orders_data.append((\n",
    "        random.randint(1, 1000),  # customer_id\n",
    "        random_date(),  # order_date\n",
    "        round(random.uniform(10, 1000), 2),  # amount\n",
    "        fake.word(),  # product_name\n",
    "        random.randint(1, 10),  # quantity\n",
    "        random.randint(0, 100),  # discount_percentage\n",
    "        random.randint(30, 300)  # service_duration_minutes\n",
    "    ))\n",
    "cursor.executemany('''\n",
    "   INSERT INTO Orders (customer_id, order_date, amount, product_name, quantity, discount_percentage, service_duration_minutes)\n",
    "    VALUES (5, '2024-05-12', 250.50, 'GadgetPro', 3, 10, 120);\n",
    "''', orders_data)\n",
    "\n",
    "# Inserting data into the Reviews table\n",
    "reviews_data = []\n",
    "for _ in range(50):\n",
    "    reviews_data.append((\n",
    "        random.randint(1, 100),  # customer_id\n",
    "        random.randint(1, 2000),  # order_id\n",
    "        random_date(),  # review_date\n",
    "        random.randint(1, 5),  # rating\n",
    "        fake.sentence()  # comments\n",
    "    ))\n",
    "cursor.executemany('''\n",
    "    INSERT INTO Reviews (customer_id, order_id, review_date, rating, comments)\n",
    "    VALUES (5, 12, '2024-06-15', 4, 'Great service and prompt delivery.');\n",
    "''', reviews_data)\n",
    "\n",
    "# Commit changes and close the connection\n",
    "conn.commit()\n",
    "conn.close()\n"
   ]
  },
  {
   "cell_type": "code",
   "execution_count": null,
   "id": "4f497dda",
   "metadata": {},
   "outputs": [],
   "source": []
  },
  {
   "cell_type": "code",
   "execution_count": null,
   "id": "56a61b0f",
   "metadata": {},
   "outputs": [],
   "source": []
  },
  {
   "cell_type": "code",
   "execution_count": 3,
   "id": "b3510c76",
   "metadata": {},
   "outputs": [
    {
     "name": "stdout",
     "output_type": "stream",
     "text": [
      "Tables in the database: [('Customers',), ('sqlite_sequence',), ('Orders',), ('Reviews',)]\n"
     ]
    }
   ],
   "source": [
    "import sqlite3\n",
    "\n",
    "# Connect to the SQLite database\n",
    "conn = sqlite3.connect('CustomerEngagementDB.db')\n",
    "cursor = conn.cursor()\n",
    "\n",
    "# Retrieve and display table names\n",
    "cursor.execute(\"SELECT name FROM sqlite_master WHERE type='table';\")\n",
    "tables = cursor.fetchall()\n",
    "print(\"Tables in the database:\", tables)\n"
   ]
  },
  {
   "cell_type": "code",
   "execution_count": null,
   "id": "09e8cb5a",
   "metadata": {},
   "outputs": [],
   "source": []
  },
  {
   "cell_type": "code",
   "execution_count": 4,
   "id": "15ef87f1",
   "metadata": {},
   "outputs": [
    {
     "data": {
      "text/html": [
       "<div>\n",
       "<style scoped>\n",
       "    .dataframe tbody tr th:only-of-type {\n",
       "        vertical-align: middle;\n",
       "    }\n",
       "\n",
       "    .dataframe tbody tr th {\n",
       "        vertical-align: top;\n",
       "    }\n",
       "\n",
       "    .dataframe thead th {\n",
       "        text-align: right;\n",
       "    }\n",
       "</style>\n",
       "<table border=\"1\" class=\"dataframe\">\n",
       "  <thead>\n",
       "    <tr style=\"text-align: right;\">\n",
       "      <th></th>\n",
       "      <th>customer_id</th>\n",
       "      <th>first_name</th>\n",
       "      <th>last_name</th>\n",
       "      <th>age</th>\n",
       "      <th>join_date</th>\n",
       "      <th>status</th>\n",
       "      <th>income</th>\n",
       "      <th>city</th>\n",
       "      <th>membership_level</th>\n",
       "      <th>satisfaction_index</th>\n",
       "      <th>email</th>\n",
       "    </tr>\n",
       "  </thead>\n",
       "  <tbody>\n",
       "    <tr>\n",
       "      <th>0</th>\n",
       "      <td>1.0</td>\n",
       "      <td>Steve</td>\n",
       "      <td>Lloyd</td>\n",
       "      <td>79.0</td>\n",
       "      <td>2021-06-01</td>\n",
       "      <td>Inactive</td>\n",
       "      <td>54895.98</td>\n",
       "      <td>Hansonborough</td>\n",
       "      <td>2.0</td>\n",
       "      <td>75.0</td>\n",
       "      <td>mauricesilva@barrera.com</td>\n",
       "    </tr>\n",
       "    <tr>\n",
       "      <th>1</th>\n",
       "      <td>2.0</td>\n",
       "      <td>Patricia</td>\n",
       "      <td>Smith</td>\n",
       "      <td>54.0</td>\n",
       "      <td>2024-05-22</td>\n",
       "      <td>Active</td>\n",
       "      <td>2543.53</td>\n",
       "      <td>New Kevinport</td>\n",
       "      <td>1.0</td>\n",
       "      <td>73.0</td>\n",
       "      <td>cbeck@salazar.com</td>\n",
       "    </tr>\n",
       "    <tr>\n",
       "      <th>2</th>\n",
       "      <td>3.0</td>\n",
       "      <td>Joshua</td>\n",
       "      <td>Cordova</td>\n",
       "      <td>90.0</td>\n",
       "      <td>2021-09-09</td>\n",
       "      <td>Inactive</td>\n",
       "      <td>84735.92</td>\n",
       "      <td>Danaside</td>\n",
       "      <td>3.0</td>\n",
       "      <td>38.0</td>\n",
       "      <td>biancagill@flores.com</td>\n",
       "    </tr>\n",
       "    <tr>\n",
       "      <th>3</th>\n",
       "      <td>4.0</td>\n",
       "      <td>Barbara</td>\n",
       "      <td>Johnson</td>\n",
       "      <td>45.0</td>\n",
       "      <td>2023-03-15</td>\n",
       "      <td>Inactive</td>\n",
       "      <td>36762.95</td>\n",
       "      <td>Port Anthonyshire</td>\n",
       "      <td>2.0</td>\n",
       "      <td>90.0</td>\n",
       "      <td>briansharp@yahoo.com</td>\n",
       "    </tr>\n",
       "    <tr>\n",
       "      <th>4</th>\n",
       "      <td>5.0</td>\n",
       "      <td>Heather</td>\n",
       "      <td>Allen</td>\n",
       "      <td>28.0</td>\n",
       "      <td>2024-06-02</td>\n",
       "      <td>Inactive</td>\n",
       "      <td>33029.45</td>\n",
       "      <td>Anthonyview</td>\n",
       "      <td>4.0</td>\n",
       "      <td>46.0</td>\n",
       "      <td>oharris@park.com</td>\n",
       "    </tr>\n",
       "  </tbody>\n",
       "</table>\n",
       "</div>"
      ],
      "text/plain": [
       "   customer_id first_name last_name   age   join_date    status    income  \\\n",
       "0          1.0      Steve     Lloyd  79.0  2021-06-01  Inactive  54895.98   \n",
       "1          2.0   Patricia     Smith  54.0  2024-05-22    Active   2543.53   \n",
       "2          3.0     Joshua   Cordova  90.0  2021-09-09  Inactive  84735.92   \n",
       "3          4.0    Barbara   Johnson  45.0  2023-03-15  Inactive  36762.95   \n",
       "4          5.0    Heather     Allen  28.0  2024-06-02  Inactive  33029.45   \n",
       "\n",
       "                city  membership_level  satisfaction_index  \\\n",
       "0      Hansonborough               2.0                75.0   \n",
       "1      New Kevinport               1.0                73.0   \n",
       "2           Danaside               3.0                38.0   \n",
       "3  Port Anthonyshire               2.0                90.0   \n",
       "4        Anthonyview               4.0                46.0   \n",
       "\n",
       "                      email  \n",
       "0  mauricesilva@barrera.com  \n",
       "1         cbeck@salazar.com  \n",
       "2     biancagill@flores.com  \n",
       "3      briansharp@yahoo.com  \n",
       "4          oharris@park.com  "
      ]
     },
     "execution_count": 4,
     "metadata": {},
     "output_type": "execute_result"
    }
   ],
   "source": [
    "import pandas as pd\n",
    "\n",
    "customers= pd.read_csv('Customers.csv')\n",
    "customers.head()"
   ]
  },
  {
   "cell_type": "code",
   "execution_count": 12,
   "id": "aa26d02b",
   "metadata": {},
   "outputs": [
    {
     "data": {
      "text/plain": [
       "(1612, 11)"
      ]
     },
     "execution_count": 12,
     "metadata": {},
     "output_type": "execute_result"
    }
   ],
   "source": [
    "customers.shape"
   ]
  },
  {
   "cell_type": "code",
   "execution_count": 3,
   "id": "e5f0467e",
   "metadata": {},
   "outputs": [
    {
     "name": "stdout",
     "output_type": "stream",
     "text": [
      "Number of duplicate rows for customers: 98\n"
     ]
    }
   ],
   "source": [
    "num_duplicates_customers = customers.duplicated().sum()\n",
    "print(\"Number of duplicate rows for customers:\", num_duplicates_customers)"
   ]
  },
  {
   "cell_type": "code",
   "execution_count": 2,
   "id": "b805325a",
   "metadata": {},
   "outputs": [
    {
     "data": {
      "text/plain": [
       "customer_id           34\n",
       "first_name            23\n",
       "last_name             25\n",
       "age                   17\n",
       "join_date             34\n",
       "status                30\n",
       "income                32\n",
       "city                  26\n",
       "membership_level      31\n",
       "satisfaction_index    28\n",
       "email                 28\n",
       "dtype: int64"
      ]
     },
     "execution_count": 2,
     "metadata": {},
     "output_type": "execute_result"
    }
   ],
   "source": [
    "# Number of missing values in the customers table \n",
    "customers.isna().sum()"
   ]
  },
  {
   "cell_type": "code",
   "execution_count": 22,
   "id": "8ffe1311",
   "metadata": {},
   "outputs": [
    {
     "data": {
      "text/html": [
       "<div>\n",
       "<style scoped>\n",
       "    .dataframe tbody tr th:only-of-type {\n",
       "        vertical-align: middle;\n",
       "    }\n",
       "\n",
       "    .dataframe tbody tr th {\n",
       "        vertical-align: top;\n",
       "    }\n",
       "\n",
       "    .dataframe thead th {\n",
       "        text-align: right;\n",
       "    }\n",
       "</style>\n",
       "<table border=\"1\" class=\"dataframe\">\n",
       "  <thead>\n",
       "    <tr style=\"text-align: right;\">\n",
       "      <th></th>\n",
       "      <th>order_id</th>\n",
       "      <th>customer_id</th>\n",
       "      <th>order_date</th>\n",
       "      <th>amount</th>\n",
       "      <th>product_name</th>\n",
       "      <th>quantity</th>\n",
       "      <th>discount_percentage</th>\n",
       "      <th>service_duration_minutes</th>\n",
       "    </tr>\n",
       "  </thead>\n",
       "  <tbody>\n",
       "    <tr>\n",
       "      <th>0</th>\n",
       "      <td>1.0</td>\n",
       "      <td>441.0</td>\n",
       "      <td>2024-10-11</td>\n",
       "      <td>109.71</td>\n",
       "      <td>public</td>\n",
       "      <td>13.0</td>\n",
       "      <td>16.0</td>\n",
       "      <td>86.0</td>\n",
       "    </tr>\n",
       "    <tr>\n",
       "      <th>1</th>\n",
       "      <td>2.0</td>\n",
       "      <td>633.0</td>\n",
       "      <td>2024-07-07</td>\n",
       "      <td>829.59</td>\n",
       "      <td>choose</td>\n",
       "      <td>17.0</td>\n",
       "      <td>20.0</td>\n",
       "      <td>139.0</td>\n",
       "    </tr>\n",
       "    <tr>\n",
       "      <th>2</th>\n",
       "      <td>3.0</td>\n",
       "      <td>607.0</td>\n",
       "      <td>2024-03-21</td>\n",
       "      <td>672.93</td>\n",
       "      <td>position</td>\n",
       "      <td>2.0</td>\n",
       "      <td>47.0</td>\n",
       "      <td>172.0</td>\n",
       "    </tr>\n",
       "    <tr>\n",
       "      <th>3</th>\n",
       "      <td>4.0</td>\n",
       "      <td>580.0</td>\n",
       "      <td>2024-04-25</td>\n",
       "      <td>123.35</td>\n",
       "      <td>understand</td>\n",
       "      <td>5.0</td>\n",
       "      <td>26.0</td>\n",
       "      <td>152.0</td>\n",
       "    </tr>\n",
       "    <tr>\n",
       "      <th>4</th>\n",
       "      <td>5.0</td>\n",
       "      <td>621.0</td>\n",
       "      <td>2024-04-05</td>\n",
       "      <td>358.40</td>\n",
       "      <td>authority</td>\n",
       "      <td>9.0</td>\n",
       "      <td>6.0</td>\n",
       "      <td>108.0</td>\n",
       "    </tr>\n",
       "  </tbody>\n",
       "</table>\n",
       "</div>"
      ],
      "text/plain": [
       "   order_id  customer_id  order_date  amount product_name  quantity  \\\n",
       "0       1.0        441.0  2024-10-11  109.71       public      13.0   \n",
       "1       2.0        633.0  2024-07-07  829.59       choose      17.0   \n",
       "2       3.0        607.0  2024-03-21  672.93     position       2.0   \n",
       "3       4.0        580.0  2024-04-25  123.35   understand       5.0   \n",
       "4       5.0        621.0  2024-04-05  358.40    authority       9.0   \n",
       "\n",
       "   discount_percentage  service_duration_minutes  \n",
       "0                 16.0                      86.0  \n",
       "1                 20.0                     139.0  \n",
       "2                 47.0                     172.0  \n",
       "3                 26.0                     152.0  \n",
       "4                  6.0                     108.0  "
      ]
     },
     "execution_count": 22,
     "metadata": {},
     "output_type": "execute_result"
    }
   ],
   "source": [
    "# Orders table\n",
    "orders = pd.read_csv('Orders.csv')\n",
    "orders.head()"
   ]
  },
  {
   "cell_type": "code",
   "execution_count": 14,
   "id": "1a32fd9a",
   "metadata": {},
   "outputs": [
    {
     "data": {
      "text/plain": [
       "(2110, 8)"
      ]
     },
     "execution_count": 14,
     "metadata": {},
     "output_type": "execute_result"
    }
   ],
   "source": [
    "\n",
    "# shape of orders dataset\n",
    "orders.shape"
   ]
  },
  {
   "cell_type": "code",
   "execution_count": 15,
   "id": "fb66d3db",
   "metadata": {},
   "outputs": [
    {
     "name": "stdout",
     "output_type": "stream",
     "text": [
      "Number of duplicate rows in orders data: 88\n"
     ]
    }
   ],
   "source": [
    "num_duplicates_orders = orders.duplicated().sum()\n",
    "print(\"Number of duplicate rows in orders data:\", num_duplicates_orders)"
   ]
  },
  {
   "cell_type": "code",
   "execution_count": 16,
   "id": "0b4ca3dd",
   "metadata": {},
   "outputs": [
    {
     "data": {
      "text/plain": [
       "order_id                    33\n",
       "customer_id                 44\n",
       "order_date                  37\n",
       "amount                      36\n",
       "product_name                34\n",
       "quantity                    42\n",
       "discount_percentage         34\n",
       "service_duration_minutes    40\n",
       "dtype: int64"
      ]
     },
     "execution_count": 16,
     "metadata": {},
     "output_type": "execute_result"
    }
   ],
   "source": [
    "# Number of missing values in the orders table \n",
    "orders.isna().sum()"
   ]
  },
  {
   "cell_type": "code",
   "execution_count": null,
   "id": "15077b8c",
   "metadata": {},
   "outputs": [],
   "source": []
  },
  {
   "cell_type": "code",
   "execution_count": 17,
   "id": "0279dc0c",
   "metadata": {},
   "outputs": [],
   "source": [
    "# Reviews table\n",
    "reviews = pd.read_csv('Reviews.csv')"
   ]
  },
  {
   "cell_type": "code",
   "execution_count": 18,
   "id": "ec1cf904",
   "metadata": {},
   "outputs": [
    {
     "data": {
      "text/plain": [
       "(518, 6)"
      ]
     },
     "execution_count": 18,
     "metadata": {},
     "output_type": "execute_result"
    }
   ],
   "source": [
    "# shape of the data\n",
    "reviews.shape"
   ]
  },
  {
   "cell_type": "code",
   "execution_count": 31,
   "id": "e9ea3fa3",
   "metadata": {},
   "outputs": [
    {
     "name": "stdout",
     "output_type": "stream",
     "text": [
      "Number of duplicate rows in reviews data: 18\n"
     ]
    }
   ],
   "source": [
    "num_duplicates_review = reviews_m.duplicated().sum()\n",
    "print(\"Number of duplicate rows in reviews data:\", num_duplicates_review)"
   ]
  },
  {
   "cell_type": "code",
   "execution_count": 19,
   "id": "58dcfcb7",
   "metadata": {},
   "outputs": [
    {
     "data": {
      "text/plain": [
       "review_id       8\n",
       "customer_id     4\n",
       "order_id        5\n",
       "review_date    11\n",
       "rating         12\n",
       "comments       12\n",
       "dtype: int64"
      ]
     },
     "execution_count": 19,
     "metadata": {},
     "output_type": "execute_result"
    }
   ],
   "source": [
    "# Number of missing values in the reviews table \n",
    "reviews.isna().sum()"
   ]
  }
 ],
 "metadata": {
  "kernelspec": {
   "display_name": "Python 3 (ipykernel)",
   "language": "python",
   "name": "python3"
  },
  "language_info": {
   "codemirror_mode": {
    "name": "ipython",
    "version": 3
   },
   "file_extension": ".py",
   "mimetype": "text/x-python",
   "name": "python",
   "nbconvert_exporter": "python",
   "pygments_lexer": "ipython3",
   "version": "3.9.12"
  }
 },
 "nbformat": 4,
 "nbformat_minor": 5
}
